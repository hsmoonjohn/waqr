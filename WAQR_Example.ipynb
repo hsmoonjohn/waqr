{
 "cells": [
  {
   "cell_type": "code",
   "execution_count": 1,
   "id": "85b9a039",
   "metadata": {},
   "outputs": [],
   "source": [
    "import numpy as np\n",
    "import os\n",
    "import sys\n",
    "import torch\n",
    "import matplotlib.pyplot as plt\n",
    "import time\n",
    "from DeepQuantile import DQR\n",
    "import numpy.random as rgt\n",
    "from scipy.stats import norm, t\n",
    "from sklearn.linear_model import LinearRegression\n",
    "from sklearn.model_selection import train_test_split\n",
    "from WAQR import WAQR, FullyConnectedNN\n",
    "from joint import QuantES\n",
    "import torch.nn as nn\n",
    "import torch.optim as optim\n",
    "import matplotlib.pyplot as plt\n"
   ]
  },
  {
   "cell_type": "markdown",
   "id": "adb857d1",
   "metadata": {},
   "source": [
    "# 1.Parametric Model"
   ]
  },
  {
   "cell_type": "markdown",
   "id": "46025450",
   "metadata": {},
   "source": [
    "This is an example of ES regression with $\\tau=0.1$, following DGP1 of Chetverikov, Liu and Tsyvinski (2022)\n",
    "where $Y=\\varepsilon+X'\\bar{\\beta}$ with $\\varepsilon\\sim N(0,1)$. Will use half to train the quantile model, and feed half to train the second step."
   ]
  },
  {
   "cell_type": "code",
   "execution_count": 2,
   "id": "3ff5cd55",
   "metadata": {},
   "outputs": [],
   "source": [
    "B = 10\n",
    "l2_err = np.zeros((B,3))\n",
    "out_l2_err = np.zeros((B,3))\n",
    "runtime = np.zeros((B,3))\n",
    "n = 2000 # number of training samples\n",
    "m = 5000 # number of test samples\n",
    "p = 5\n",
    "tau = 0.1\n",
    "\n",
    "betabar = np.array([0.3,0.5,0,0,0])\n",
    "betabar1=np.array([0.5,0.3,0.5,0,0,0])\n",
    "itc=0.5"
   ]
  },
  {
   "cell_type": "code",
   "execution_count": 3,
   "id": "7a8d41e6",
   "metadata": {},
   "outputs": [],
   "source": [
    "VaR = norm.ppf(tau)\n",
    "SQ = norm.ppf(1-tau)\n",
    "def tail_function(x) :\n",
    "    return (x if x < VaR else 0)\n",
    "\n",
    "def right_tail_function(x):\n",
    "    return (x if x >SQ else 0)\n",
    "\n",
    "CVaR = norm.expect(tail_function)/tau\n",
    "CSQ = norm.expect(right_tail_function)/tau"
   ]
  },
  {
   "cell_type": "code",
   "execution_count": 4,
   "id": "de41170e",
   "metadata": {},
   "outputs": [],
   "source": [
    "for b in range(B):\n",
    "    X = np.random.standard_normal(size=(n, p))\n",
    "    Xbar= np.hstack((np.ones((n, 1)), X))\n",
    "    # Add a column of ones as the first column of the matrix\n",
    "    #X = np.hstack((np.ones((n, 1)), X))\n",
    "    err = rgt.normal(0,1,n)\n",
    "    Y = err +X.dot(betabar)+itc\n",
    "    X_test = np.random.standard_normal(size=(m, p))\n",
    "    # Add a column of ones as the first column of the matrix\n",
    "    X_test_bar = np.hstack((np.ones((m, 1)), X_test))\n",
    "    true_test_ES=X_test.dot(betabar) + CVaR +itc\n",
    "    true_test_SQ=X_test.dot(betabar) + CSQ +itc\n",
    "    \n",
    "    waqr1 = WAQR(X,Y,options={'depth' : 3})\n",
    "    modells1 = waqr1.fit_ls(tau1=tau,intercept=True)\n",
    "    betahat=modells1.coef_\n",
    "    l2_err[b,0] = (np.mean((true_test_ES - modells1.predict(X_test))**2))**0.5\n",
    "    \n",
    "    modelnl1 = waqr1.fit_nl(tau1=tau,hidden_sizes=[128,128,128],dropout_rate=0,use_lr_decay=True)\n",
    "    l2_err[b,1] = (np.mean((true_test_ES - modelnl1.predict(X_test))**2))**0.5\n",
    "    \n",
    "    init = QuantES(X, Y)\n",
    "    ## two-step least squares\n",
    "    m1 = init.twostep_fit(tau=tau, loss='L2',standardize=True)\n",
    "    l2_err[b,2] = (np.mean((true_test_ES - X_test_bar.dot(m1['coef_e']))**2))**0.5\n",
    "    \n",
    "    #m2 = init.joint_fit(tau=tau)\n",
    "    #l2_err[b,2] = (np.mean((true_test_ES - X_test_bar.dot(m2['coef_e']))**2))**0.5\n",
    "    "
   ]
  },
  {
   "cell_type": "code",
   "execution_count": 5,
   "id": "55cfef59",
   "metadata": {},
   "outputs": [
    {
     "data": {
      "text/plain": [
       "array([0.12687744, 0.56392458, 0.08503168])"
      ]
     },
     "execution_count": 5,
     "metadata": {},
     "output_type": "execute_result"
    }
   ],
   "source": [
    "np.mean(l2_err, axis = 0)"
   ]
  },
  {
   "cell_type": "code",
   "execution_count": null,
   "id": "4e6f9001",
   "metadata": {},
   "outputs": [],
   "source": [
    "m1['coef_e']"
   ]
  },
  {
   "cell_type": "code",
   "execution_count": null,
   "id": "4cbf8a92",
   "metadata": {
    "scrolled": true
   },
   "outputs": [],
   "source": [
    "betahat"
   ]
  },
  {
   "cell_type": "code",
   "execution_count": null,
   "id": "c962ad67",
   "metadata": {},
   "outputs": [],
   "source": [
    "modells1.intercept_"
   ]
  },
  {
   "cell_type": "code",
   "execution_count": null,
   "id": "97caf389",
   "metadata": {},
   "outputs": [],
   "source": [
    "import math"
   ]
  },
  {
   "cell_type": "code",
   "execution_count": null,
   "id": "cef1d9d2",
   "metadata": {},
   "outputs": [],
   "source": [
    "np.random.seed(0)\n",
    "X = np.random.rand(10000)\n",
    "Y = 2 * np.sin(10*X) + 1 + 0.5 * np.random.randn(10000)\n",
    "\n",
    "# Convert data to PyTorch tensors\n",
    "train_x = torch.tensor(X, dtype=torch.float32).view(-1, 1)\n",
    "train_y = torch.tensor(Y, dtype=torch.float32).view(-1, 1)"
   ]
  },
  {
   "cell_type": "code",
   "execution_count": null,
   "id": "72376ff5",
   "metadata": {},
   "outputs": [],
   "source": [
    "input_size = 1\n",
    "output_size = 1\n",
    "hidden_sizes = [64, 64]\n",
    "\n",
    "model = FullyConnectedNN(input_size, output_size, hidden_sizes)\n",
    "criterion = nn.MSELoss()\n",
    "optimizer = optim.Adam(model.parameters(), lr=0.01)\n",
    "\n",
    "# Train the model\n",
    "num_epochs = 500\n",
    "for epoch in range(num_epochs):\n",
    "    model.train()\n",
    "    optimizer.zero_grad()\n",
    "    predictions = model(train_x)\n",
    "    loss = criterion(predictions, train_y)\n",
    "    loss.backward()\n",
    "    optimizer.step()\n",
    "\n",
    "# Make predictions\n",
    "model.eval()\n",
    "test_x = torch.linspace(0, 1, 100).view(-1, 1)\n",
    "test_y = model(test_x).detach().numpy()\n",
    "true_y = (2*np.sin(10*test_x)+1).numpy()\n",
    "\n",
    "# Plot the results\n",
    "#plt.scatter(X, Y, label='Data')\n",
    "plt.plot(test_x, test_y, label='Deep Learning Regression', color='r')\n",
    "plt.plot(test_x, true_y, label='True model', color='g')\n",
    "plt.xlabel('X')\n",
    "plt.ylabel('Y')\n",
    "plt.legend()\n",
    "plt.show()\n"
   ]
  },
  {
   "cell_type": "code",
   "execution_count": null,
   "id": "f09cd82b",
   "metadata": {},
   "outputs": [],
   "source": []
  }
 ],
 "metadata": {
  "kernelspec": {
   "display_name": "Python 3",
   "language": "python",
   "name": "python3"
  },
  "language_info": {
   "codemirror_mode": {
    "name": "ipython",
    "version": 3
   },
   "file_extension": ".py",
   "mimetype": "text/x-python",
   "name": "python",
   "nbconvert_exporter": "python",
   "pygments_lexer": "ipython3",
   "version": "3.8.8"
  }
 },
 "nbformat": 4,
 "nbformat_minor": 5
}
