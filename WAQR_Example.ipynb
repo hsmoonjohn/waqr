{
 "cells": [
  {
   "cell_type": "code",
   "execution_count": 17,
   "id": "85b9a039",
   "metadata": {},
   "outputs": [],
   "source": [
    "import numpy as np\n",
    "import os\n",
    "import sys\n",
    "import torch\n",
    "import matplotlib.pyplot as plt\n",
    "import time\n",
    "from DeepQuantile import DQR\n",
    "import numpy.random as rgt\n",
    "from scipy.stats import norm, t\n",
    "from sklearn.linear_model import LinearRegression\n",
    "from sklearn.model_selection import train_test_split\n",
    "from WAQR import WAQR, FullyConnectedNN\n",
    "from joint import QuantES\n",
    "import torch.nn as nn\n",
    "import torch.optim as optim\n",
    "import matplotlib.pyplot as plt\n"
   ]
  },
  {
   "cell_type": "markdown",
   "id": "adb857d1",
   "metadata": {},
   "source": [
    "# 1.Parametric Model"
   ]
  },
  {
   "cell_type": "markdown",
   "id": "46025450",
   "metadata": {},
   "source": [
    "This is an example of ES regression with $\\tau=0.1$, following DGP1 of Chetverikov, Liu and Tsyvinski (2022)\n",
    "where $Y=\\varepsilon+X'\\bar{\\beta}$ with $\\varepsilon\\sim N(0,1)$. Will use half to train the quantile model, and feed half to train the second step."
   ]
  },
  {
   "cell_type": "code",
   "execution_count": 18,
   "id": "3ff5cd55",
   "metadata": {},
   "outputs": [],
   "source": [
    "B = 10\n",
    "l2_err = np.zeros((B,3))\n",
    "out_l2_err = np.zeros((B,3))\n",
    "runtime = np.zeros((B,3))\n",
    "n = 3000 # number of training samples\n",
    "m = 5000 # number of test samples\n",
    "p = 5\n",
    "tau = 0.1\n",
    "\n",
    "betabar = np.array([0.3,0.5,0,0,0])\n",
    "betabar1=np.array([0.5,0.3,0.5,0,0,0])\n",
    "itc=0.5"
   ]
  },
  {
   "cell_type": "code",
   "execution_count": 19,
   "id": "7a8d41e6",
   "metadata": {},
   "outputs": [],
   "source": [
    "VaR = norm.ppf(tau)\n",
    "SQ = norm.ppf(1-tau)\n",
    "def tail_function(x) :\n",
    "    return (x if x < VaR else 0)\n",
    "\n",
    "def right_tail_function(x):\n",
    "    return (x if x >SQ else 0)\n",
    "\n",
    "CVaR = norm.expect(tail_function)/tau\n",
    "CSQ = norm.expect(right_tail_function)/tau"
   ]
  },
  {
   "cell_type": "code",
   "execution_count": 64,
   "id": "de41170e",
   "metadata": {},
   "outputs": [],
   "source": [
    "for b in range(B):\n",
    "    X = np.random.standard_normal(size=(n, p))\n",
    "    Xbar= np.hstack((np.ones((n, 1)), X))\n",
    "    # Add a column of ones as the first column of the matrix\n",
    "    #X = np.hstack((np.ones((n, 1)), X))\n",
    "    err = rgt.normal(0,1,n)\n",
    "    Y = err +X.dot(betabar)+itc\n",
    "    X_test = np.random.standard_normal(size=(m, p))\n",
    "    # Add a column of ones as the first column of the matrix\n",
    "    X_test_bar = np.hstack((np.ones((m, 1)), X_test))\n",
    "    true_test_ES=X_test.dot(betabar) + CVaR +itc\n",
    "    true_test_SQ=X_test.dot(betabar) + CSQ +itc\n",
    "    \n",
    "    waqr1 = WAQR(Xbar,Y,options={'depth' : 3})\n",
    "    modells1 = waqr1.fit_ls(tau1=tau,intercept=False)\n",
    "    betahat=modells1.coef_\n",
    "    l2_err[b,0] = (np.mean((true_test_ES - modells1.predict(X_test_bar))**2))**0.5\n",
    "    \n",
    "    waqr2 = WAQR(Xbar,Y,options={'depth' : 3})\n",
    "    modelnl1, trainloss = waqr2.fit_nl(tau1=tau,hidden_sizes=[48],dropout_rate=0,lr=0.1, batch_size=32, use_lr_decay=True)\n",
    "    l2_err[b,1] = (np.mean((true_test_ES - modelnl1.predict(X_test_bar))**2))**0.5\n",
    "    \n",
    "    init = QuantES(X, Y)\n",
    "    ## two-step least squares\n",
    "    m1 = init.twostep_fit(tau=tau, loss='L2',standardize=True)\n",
    "    l2_err[b,2] = (np.mean((true_test_ES - X_test_bar.dot(m1['coef_e']))**2))**0.5\n",
    "    \n",
    "    #m2 = init.joint_fit(tau=tau)\n",
    "    #l2_err[b,2] = (np.mean((true_test_ES - X_test_bar.dot(m2['coef_e']))**2))**0.5\n",
    "    "
   ]
  },
  {
   "cell_type": "code",
   "execution_count": 65,
   "id": "55cfef59",
   "metadata": {},
   "outputs": [
    {
     "data": {
      "text/plain": [
       "array([0.10552338, 0.17907196, 0.07916918])"
      ]
     },
     "execution_count": 65,
     "metadata": {},
     "output_type": "execute_result"
    }
   ],
   "source": [
    "np.mean(l2_err, axis = 0)"
   ]
  },
  {
   "cell_type": "code",
   "execution_count": 66,
   "id": "4e6f9001",
   "metadata": {},
   "outputs": [
    {
     "name": "stderr",
     "output_type": "stream",
     "text": [
      "<ipython-input-66-476971ec3072>:1: FutureWarning: The input object of type 'Tensor' is an array-like implementing one of the corresponding protocols (`__array__`, `__array_interface__` or `__array_struct__`); but not a sequence (or 0-D). In the future, this object will be coerced as if it was first converted using `np.array(obj)`. To retain the old behaviour, you have to either modify the type 'Tensor', or assign to an empty array created with `np.empty(correct_shape, dtype=object)`.\n",
      "  plt.plot(np.array(trainloss), label='Training loss')\n",
      "<ipython-input-66-476971ec3072>:1: VisibleDeprecationWarning: Creating an ndarray from ragged nested sequences (which is a list-or-tuple of lists-or-tuples-or ndarrays with different lengths or shapes) is deprecated. If you meant to do this, you must specify 'dtype=object' when creating the ndarray.\n",
      "  plt.plot(np.array(trainloss), label='Training loss')\n"
     ]
    },
    {
     "data": {
      "image/png": "[encoded data removed]",
      "text/plain": [
       "<Figure size 432x288 with 1 Axes>"
      ]
     },
     "metadata": {
      "needs_background": "light"
     },
     "output_type": "display_data"
    }
   ],
   "source": [
    "plt.plot(np.array(trainloss), label='Training loss')\n",
    "plt.xlabel('Epoch')\n",
    "plt.ylabel('Loss')\n",
    "plt.legend()\n",
    "plt.show()"
   ]
  },
  {
   "cell_type": "code",
   "execution_count": 67,
   "id": "009d2ab0",
   "metadata": {},
   "outputs": [
    {
     "name": "stderr",
     "output_type": "stream",
     "text": [
      "<ipython-input-67-80fce45b4a8f>:1: FutureWarning: The input object of type 'Tensor' is an array-like implementing one of the corresponding protocols (`__array__`, `__array_interface__` or `__array_struct__`); but not a sequence (or 0-D). In the future, this object will be coerced as if it was first converted using `np.array(obj)`. To retain the old behaviour, you have to either modify the type 'Tensor', or assign to an empty array created with `np.empty(correct_shape, dtype=object)`.\n",
      "  np.array(trainloss)\n",
      "<ipython-input-67-80fce45b4a8f>:1: VisibleDeprecationWarning: Creating an ndarray from ragged nested sequences (which is a list-or-tuple of lists-or-tuples-or ndarrays with different lengths or shapes) is deprecated. If you meant to do this, you must specify 'dtype=object' when creating the ndarray.\n",
      "  np.array(trainloss)\n"
     ]
    },
    {
     "data": {
      "text/plain": [
       "array([tensor([2.9499]), tensor([2.7821]), tensor([2.7612]),\n",
       "       tensor([2.7757]), tensor([2.7375]), tensor([2.8011]),\n",
       "       tensor([2.7598]), tensor([2.7316]), tensor([2.7378]),\n",
       "       tensor([2.7388]), tensor([2.7415]), tensor([2.7648]),\n",
       "       tensor([2.7457]), tensor([2.7324]), tensor([2.7389]),\n",
       "       tensor([2.7629]), tensor([2.7934]), tensor([2.7610]),\n",
       "       tensor([2.7365]), tensor([2.7539]), tensor([2.7567]),\n",
       "       tensor([2.7316]), tensor([2.7906]), tensor([2.7435]),\n",
       "       tensor([2.7566]), tensor([2.7514]), tensor([2.7440]),\n",
       "       tensor([2.7925]), tensor([2.7259]), tensor([2.7337]),\n",
       "       tensor([2.7822]), tensor([2.7728]), tensor([2.7639]),\n",
       "       tensor([2.7520]), tensor([2.8043]), tensor([2.7583]),\n",
       "       tensor([2.7194]), tensor([2.7286]), tensor([2.7579]),\n",
       "       tensor([2.7729]), tensor([2.7667]), tensor([2.7927]),\n",
       "       tensor([2.7599]), tensor([2.7490]), tensor([2.7590]),\n",
       "       tensor([2.7658]), tensor([2.7260]), tensor([2.7782]),\n",
       "       tensor([2.7589]), tensor([2.7410]), tensor([2.7634]),\n",
       "       tensor([2.7681]), tensor([2.7414]), tensor([2.7618]),\n",
       "       tensor([2.7561]), tensor([2.7538]), tensor([2.7908]),\n",
       "       tensor([2.7732]), tensor([2.7332]), tensor([2.7270]),\n",
       "       tensor([2.7225]), tensor([2.7550]), tensor([2.7468]),\n",
       "       tensor([2.8138]), tensor([2.7799]), tensor([2.7554]),\n",
       "       tensor([2.7625]), tensor([2.7596]), tensor([2.7556]),\n",
       "       tensor([2.7634]), tensor([2.7559]), tensor([2.7407]),\n",
       "       tensor([2.7266]), tensor([2.7419]), tensor([2.7326]),\n",
       "       tensor([2.7342]), tensor([2.8113]), tensor([2.7540]),\n",
       "       tensor([2.7564]), tensor([2.7710]), tensor([2.7924]),\n",
       "       tensor([2.7146]), tensor([2.7154]), tensor([2.7239]),\n",
       "       tensor([2.7416]), tensor([2.7431]), tensor([2.7317]),\n",
       "       tensor([2.7449]), tensor([2.7232]), tensor([2.7639]),\n",
       "       tensor([2.7955]), tensor([2.8178]), tensor([2.8192]),\n",
       "       tensor([2.8243]), tensor([2.7443]), tensor([2.8270]),\n",
       "       tensor([2.7859]), tensor([2.7679]), tensor([2.7749]),\n",
       "       tensor([2.7836]), tensor([2.7275]), tensor([2.7279]),\n",
       "       tensor([2.7097]), tensor([2.7090]), tensor([2.7062]),\n",
       "       tensor([2.7050]), tensor([2.6939]), tensor([2.6958]),\n",
       "       tensor([2.6859]), tensor([2.6832]), tensor([2.7030]),\n",
       "       tensor([2.6762]), tensor([2.6931]), tensor([2.6921]),\n",
       "       tensor([2.6769]), tensor([2.6808]), tensor([2.6819]),\n",
       "       tensor([2.6929]), tensor([2.6768]), tensor([2.7005]),\n",
       "       tensor([2.6927]), tensor([2.6939]), tensor([2.6782]),\n",
       "       tensor([2.6752]), tensor([2.6908]), tensor([2.6755]),\n",
       "       tensor([2.6877]), tensor([2.6833]), tensor([2.6758]),\n",
       "       tensor([2.6812]), tensor([2.6756]), tensor([2.6729]),\n",
       "       tensor([2.6846]), tensor([2.6725]), tensor([2.6849]),\n",
       "       tensor([2.6807]), tensor([2.6733]), tensor([2.6810]),\n",
       "       tensor([2.6739]), tensor([2.6725]), tensor([2.6790]),\n",
       "       tensor([2.6739]), tensor([2.6736]), tensor([2.6918]),\n",
       "       tensor([2.6737]), tensor([2.6718]), tensor([2.6857]),\n",
       "       tensor([2.6700]), tensor([2.6811]), tensor([2.6787]),\n",
       "       tensor([2.6743]), tensor([2.6969]), tensor([2.6802]),\n",
       "       tensor([2.6783]), tensor([2.6782])], dtype=object)"
      ]
     },
     "execution_count": 67,
     "metadata": {},
     "output_type": "execute_result"
    }
   ],
   "source": [
    "np.array(trainloss)"
   ]
  },
  {
   "cell_type": "code",
   "execution_count": 56,
   "id": "4b2a0e37",
   "metadata": {},
   "outputs": [
    {
     "data": {
      "text/plain": [
       "200"
      ]
     },
     "execution_count": 56,
     "metadata": {},
     "output_type": "execute_result"
    }
   ],
   "source": [
    "len(trainloss)"
   ]
  },
  {
   "cell_type": "code",
   "execution_count": null,
   "id": "fb2a079c",
   "metadata": {},
   "outputs": [],
   "source": []
  },
  {
   "cell_type": "markdown",
   "id": "93c69b79",
   "metadata": {
    "scrolled": true
   },
   "source": [
    "# 2. Nonparametric Model"
   ]
  },
  {
   "cell_type": "code",
   "execution_count": 68,
   "id": "c962ad67",
   "metadata": {},
   "outputs": [],
   "source": [
    "B = 10\n",
    "l2_err_np = np.zeros((B,3))\n",
    "\n",
    "runtime = np.zeros((B,3))\n",
    "n = 3000 # number of training samples\n",
    "m = 5000 # number of test samples\n",
    "p = 3\n",
    "tau = 0.1\n",
    "\n"
   ]
  },
  {
   "cell_type": "markdown",
   "id": "eb9e34d1",
   "metadata": {},
   "source": [
    "### (1)\n",
    "$$ y = \\sin(2\\pi x_1^2) \\sin(4\\pi x_2) + 2x_3^2 + \\epsilon$$"
   ]
  },
  {
   "cell_type": "code",
   "execution_count": 69,
   "id": "6de58f1e",
   "metadata": {},
   "outputs": [],
   "source": [
    "nonpar_function = lambda x : np.sin(2*np.pi*(x[:,0]))*np.sin(4*np.pi*x[:,1]) + 2*np.cos(x[:,2])"
   ]
  },
  {
   "cell_type": "code",
   "execution_count": 70,
   "id": "97caf389",
   "metadata": {},
   "outputs": [],
   "source": [
    "VaR = norm.ppf(tau)\n",
    "SQ = norm.ppf(1-tau)\n",
    "def tail_function(x) :\n",
    "    return (x if x < VaR else 0)\n",
    "\n",
    "def right_tail_function(x):\n",
    "    return (x if x >SQ else 0)\n",
    "\n",
    "CVaR = norm.expect(tail_function)/tau\n",
    "CSQ = norm.expect(right_tail_function)/tau"
   ]
  },
  {
   "cell_type": "code",
   "execution_count": 82,
   "id": "f09cd82b",
   "metadata": {},
   "outputs": [],
   "source": [
    "for b in range(B):\n",
    "    X = np.random.standard_normal(size=(n, p))\n",
    "    err = rgt.normal(0,1,n)\n",
    "    Y = err +nonpar_function(X)\n",
    "    X_test = np.random.standard_normal(size=(m, p))\n",
    "    X_test_bar = np.hstack((np.ones((m, 1)), X_test))\n",
    "    # Add a column of ones as the first column of the matrix\n",
    "    \n",
    "    true_test_ES=nonpar_function(X_test) + CVaR \n",
    "    true_test_SQ=nonpar_function(X_test) + CSQ \n",
    "    \n",
    "    waqr1 = WAQR(X,Y,options={'depth' : 3})\n",
    "    modells1 = waqr1.fit_ls(tau1=tau,intercept=True)\n",
    "    l2_err_np[b,0] = (np.mean((true_test_ES - modells1.predict(X_test))**2))**0.5\n",
    "    \n",
    "    modelnl1,train_losses = waqr1.fit_nl(tau1=tau,hidden_sizes=[128,128,128,128],dropout_rate=0.1,use_lr_decay=True,lr=0.05,batch_size=128)\n",
    "    l2_err_np[b,1] = (np.mean((true_test_ES - modelnl1.predict(X_test))**2))**0.5\n",
    "    \n",
    "    init = QuantES(X, Y)\n",
    "    ## two-step least squares\n",
    "    m1 = init.twostep_fit(tau=tau, loss='L2',standardize=True)\n",
    "    l2_err_np[b,2] = (np.mean((true_test_ES - X_test_bar.dot(m1['coef_e']))**2))**0.5\n",
    "    \n",
    "    #m2 = init.joint_fit(tau=tau)\n",
    "    #l2_err[b,2] = (np.mean((true_test_ES - X_test_bar.dot(m2['coef_e']))**2))**0.5\n",
    "    "
   ]
  },
  {
   "cell_type": "code",
   "execution_count": 83,
   "id": "8089252e",
   "metadata": {},
   "outputs": [
    {
     "data": {
      "text/plain": [
       "array([1.04416941, 0.6730943 , 1.39636885])"
      ]
     },
     "execution_count": 83,
     "metadata": {},
     "output_type": "execute_result"
    }
   ],
   "source": [
    "np.mean(l2_err_np, axis = 0)"
   ]
  },
  {
   "cell_type": "code",
   "execution_count": 84,
   "id": "47819b4c",
   "metadata": {},
   "outputs": [
    {
     "name": "stderr",
     "output_type": "stream",
     "text": [
      "<ipython-input-84-bff1a3905ff6>:1: FutureWarning: The input object of type 'Tensor' is an array-like implementing one of the corresponding protocols (`__array__`, `__array_interface__` or `__array_struct__`); but not a sequence (or 0-D). In the future, this object will be coerced as if it was first converted using `np.array(obj)`. To retain the old behaviour, you have to either modify the type 'Tensor', or assign to an empty array created with `np.empty(correct_shape, dtype=object)`.\n",
      "  plt.plot(np.array(train_losses), label='Training loss')\n",
      "<ipython-input-84-bff1a3905ff6>:1: VisibleDeprecationWarning: Creating an ndarray from ragged nested sequences (which is a list-or-tuple of lists-or-tuples-or ndarrays with different lengths or shapes) is deprecated. If you meant to do this, you must specify 'dtype=object' when creating the ndarray.\n",
      "  plt.plot(np.array(train_losses), label='Training loss')\n"
     ]
    },
    {
     "data": {
      "image/png": "[encoded data removed]",
      "text/plain": [
       "<Figure size 432x288 with 1 Axes>"
      ]
     },
     "metadata": {
      "needs_background": "light"
     },
     "output_type": "display_data"
    }
   ],
   "source": [
    "plt.plot(np.array(train_losses), label='Training loss')\n",
    "plt.xlabel('Epoch')\n",
    "plt.ylabel('Loss')\n",
    "plt.legend()\n",
    "plt.show()"
   ]
  },
  {
   "cell_type": "code",
   "execution_count": 85,
   "id": "fb77a570",
   "metadata": {},
   "outputs": [
    {
     "data": {
      "text/plain": [
       "[tensor([151.5643]),\n",
       " tensor([4.8083]),\n",
       " tensor([4.8852]),\n",
       " tensor([4.7214]),\n",
       " tensor([4.6324]),\n",
       " tensor([4.5800]),\n",
       " tensor([4.6665]),\n",
       " tensor([4.7468]),\n",
       " tensor([4.7661]),\n",
       " tensor([4.6846]),\n",
       " tensor([4.6880]),\n",
       " tensor([4.6111]),\n",
       " tensor([4.8226]),\n",
       " tensor([4.7098]),\n",
       " tensor([4.6239]),\n",
       " tensor([4.6149]),\n",
       " tensor([4.5184]),\n",
       " tensor([4.5432]),\n",
       " tensor([4.6723]),\n",
       " tensor([4.7433]),\n",
       " tensor([4.5126]),\n",
       " tensor([4.6487]),\n",
       " tensor([4.6400]),\n",
       " tensor([4.4871]),\n",
       " tensor([4.4784]),\n",
       " tensor([4.5060]),\n",
       " tensor([4.4980]),\n",
       " tensor([4.5921]),\n",
       " tensor([4.6277]),\n",
       " tensor([4.6609]),\n",
       " tensor([4.5938]),\n",
       " tensor([4.5184]),\n",
       " tensor([4.5168]),\n",
       " tensor([4.6900]),\n",
       " tensor([4.4996]),\n",
       " tensor([4.4247]),\n",
       " tensor([4.6443]),\n",
       " tensor([5.0252]),\n",
       " tensor([4.5362]),\n",
       " tensor([4.4620]),\n",
       " tensor([4.5289]),\n",
       " tensor([4.4316]),\n",
       " tensor([4.6017]),\n",
       " tensor([4.8557]),\n",
       " tensor([4.7838]),\n",
       " tensor([4.4841]),\n",
       " tensor([4.4890]),\n",
       " tensor([4.4928]),\n",
       " tensor([4.6169]),\n",
       " tensor([4.4921]),\n",
       " tensor([4.4479]),\n",
       " tensor([4.4708]),\n",
       " tensor([4.5806]),\n",
       " tensor([4.4629]),\n",
       " tensor([4.5260]),\n",
       " tensor([4.4777]),\n",
       " tensor([4.4257]),\n",
       " tensor([4.4790]),\n",
       " tensor([4.5762]),\n",
       " tensor([4.5053]),\n",
       " tensor([4.7352]),\n",
       " tensor([4.4953]),\n",
       " tensor([4.5047]),\n",
       " tensor([4.4810]),\n",
       " tensor([4.5456]),\n",
       " tensor([4.5237]),\n",
       " tensor([4.6336]),\n",
       " tensor([4.5426]),\n",
       " tensor([4.5249]),\n",
       " tensor([4.5219]),\n",
       " tensor([4.5562]),\n",
       " tensor([4.6254]),\n",
       " tensor([4.5332]),\n",
       " tensor([4.6607]),\n",
       " tensor([4.5866]),\n",
       " tensor([4.5719]),\n",
       " tensor([4.5613]),\n",
       " tensor([4.5859]),\n",
       " tensor([4.5812]),\n",
       " tensor([4.5597]),\n",
       " tensor([4.4431]),\n",
       " tensor([4.8581]),\n",
       " tensor([4.4660]),\n",
       " tensor([4.5929]),\n",
       " tensor([4.5523]),\n",
       " tensor([4.5095]),\n",
       " tensor([4.6162]),\n",
       " tensor([4.5855]),\n",
       " tensor([4.5625]),\n",
       " tensor([4.5806]),\n",
       " tensor([4.5637]),\n",
       " tensor([4.5590]),\n",
       " tensor([4.4907]),\n",
       " tensor([4.6157]),\n",
       " tensor([4.4816]),\n",
       " tensor([4.5169]),\n",
       " tensor([4.4650]),\n",
       " tensor([4.4875]),\n",
       " tensor([4.5524]),\n",
       " tensor([4.5927]),\n",
       " tensor([4.5072]),\n",
       " tensor([4.5033]),\n",
       " tensor([4.4538]),\n",
       " tensor([4.4455]),\n",
       " tensor([4.3887]),\n",
       " tensor([4.4691]),\n",
       " tensor([4.3974]),\n",
       " tensor([4.4484]),\n",
       " tensor([4.3927]),\n",
       " tensor([4.5161]),\n",
       " tensor([4.4614]),\n",
       " tensor([4.4600]),\n",
       " tensor([4.6395]),\n",
       " tensor([4.4235]),\n",
       " tensor([4.4473]),\n",
       " tensor([4.4330]),\n",
       " tensor([4.4072]),\n",
       " tensor([4.4639]),\n",
       " tensor([4.3839]),\n",
       " tensor([4.4746]),\n",
       " tensor([4.4885]),\n",
       " tensor([4.4371]),\n",
       " tensor([4.4552]),\n",
       " tensor([4.3896]),\n",
       " tensor([4.4436]),\n",
       " tensor([4.3944]),\n",
       " tensor([4.4819]),\n",
       " tensor([4.3687]),\n",
       " tensor([4.4011]),\n",
       " tensor([4.5551]),\n",
       " tensor([4.3589]),\n",
       " tensor([4.4012]),\n",
       " tensor([4.3721]),\n",
       " tensor([4.3936]),\n",
       " tensor([4.4267]),\n",
       " tensor([4.5152]),\n",
       " tensor([4.5995]),\n",
       " tensor([4.3862]),\n",
       " tensor([4.3717]),\n",
       " tensor([4.4179]),\n",
       " tensor([4.3326]),\n",
       " tensor([4.6282]),\n",
       " tensor([4.5104]),\n",
       " tensor([4.4778]),\n",
       " tensor([4.4705]),\n",
       " tensor([4.4874]),\n",
       " tensor([4.4664]),\n",
       " tensor([4.4795]),\n",
       " tensor([4.4066]),\n",
       " tensor([4.3717]),\n",
       " tensor([4.3767]),\n",
       " tensor([4.3683]),\n",
       " tensor([4.4412]),\n",
       " tensor([4.4377]),\n",
       " tensor([4.4246]),\n",
       " tensor([4.6447]),\n",
       " tensor([4.4237]),\n",
       " tensor([4.3671]),\n",
       " tensor([4.5211]),\n",
       " tensor([4.3400]),\n",
       " tensor([4.4072]),\n",
       " tensor([4.4319]),\n",
       " tensor([4.3981]),\n",
       " tensor([4.3458]),\n",
       " tensor([4.3556]),\n",
       " tensor([4.3941]),\n",
       " tensor([4.4858]),\n",
       " tensor([4.5168]),\n",
       " tensor([4.5743]),\n",
       " tensor([4.4698]),\n",
       " tensor([4.5556]),\n",
       " tensor([4.4025]),\n",
       " tensor([4.4328]),\n",
       " tensor([4.3685]),\n",
       " tensor([4.3943]),\n",
       " tensor([4.4438]),\n",
       " tensor([4.4887]),\n",
       " tensor([4.4080]),\n",
       " tensor([4.4135]),\n",
       " tensor([4.3572]),\n",
       " tensor([4.4415]),\n",
       " tensor([4.5138]),\n",
       " tensor([4.3731]),\n",
       " tensor([4.4273]),\n",
       " tensor([4.4693]),\n",
       " tensor([4.3755]),\n",
       " tensor([4.4410]),\n",
       " tensor([4.4076]),\n",
       " tensor([4.4941]),\n",
       " tensor([4.3136]),\n",
       " tensor([4.3553]),\n",
       " tensor([4.4961]),\n",
       " tensor([4.5643]),\n",
       " tensor([4.4127]),\n",
       " tensor([4.4296]),\n",
       " tensor([4.4910]),\n",
       " tensor([4.4322]),\n",
       " tensor([4.4307]),\n",
       " tensor([4.3951]),\n",
       " tensor([4.3249])]"
      ]
     },
     "execution_count": 85,
     "metadata": {},
     "output_type": "execute_result"
    }
   ],
   "source": [
    "train_losses"
   ]
  },
  {
   "cell_type": "code",
   "execution_count": null,
   "id": "c1eb7117",
   "metadata": {},
   "outputs": [],
   "source": []
  }
 ],
 "metadata": {
  "kernelspec": {
   "display_name": "Python 3",
   "language": "python",
   "name": "python3"
  },
  "language_info": {
   "codemirror_mode": {
    "name": "ipython",
    "version": 3
   },
   "file_extension": ".py",
   "mimetype": "text/x-python",
   "name": "python",
   "nbconvert_exporter": "python",
   "pygments_lexer": "ipython3",
   "version": "3.8.8"
  }
 },
 "nbformat": 4,
 "nbformat_minor": 5
}
